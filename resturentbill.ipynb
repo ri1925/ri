{
  "nbformat": 4,
  "nbformat_minor": 0,
  "metadata": {
    "colab": {
      "provenance": [],
      "authorship_tag": "ABX9TyN2D2JbWp+AK1kESWmdSvRQ",
      "include_colab_link": true
    },
    "kernelspec": {
      "name": "python3",
      "display_name": "Python 3"
    },
    "language_info": {
      "name": "python"
    }
  },
  "cells": [
    {
      "cell_type": "markdown",
      "metadata": {
        "id": "view-in-github",
        "colab_type": "text"
      },
      "source": [
        "<a href=\"https://colab.research.google.com/github/ri1925/ri/blob/main/resturentbill.ipynb\" target=\"_parent\"><img src=\"https://colab.research.google.com/assets/colab-badge.svg\" alt=\"Open In Colab\"/></a>"
      ]
    },
    {
      "cell_type": "code",
      "execution_count": null,
      "metadata": {
        "colab": {
          "base_uri": "https://localhost:8080/"
        },
        "id": "MvynI69vLt5Q",
        "outputId": "f42edf53-3607-4365-d9fd-566456f735e7"
      },
      "outputs": [
        {
          "output_type": "stream",
          "name": "stdout",
          "text": [
            "--------------BILL---------------\n",
            "1.st item is   :-           Pizza\n",
            "\n",
            "price of it is :-           500\n",
            "\n",
            "2.nd item is   :-           Burger\n",
            "\n",
            "price of it is :-           150\n",
            "\n",
            "3.rd item is   :-           Cake\n",
            "\n",
            "price of it is :-           300\n",
            "\n",
            "4.th item is   :-           Coffee\n",
            "\n",
            "price of it is :-           200\n",
            "\n",
            "5.th item is   :-           Tea\n",
            "\n",
            "price of it is :-           50\n",
            "\n",
            "total amount is:-           1200\n",
            "\n",
            "discount percentage:-       10 %\n",
            "\n",
            "discount amount :-          120.0\n",
            "\n",
            "bill is :-                  1080.0\n",
            "-------------BILL END--------------\n"
          ]
        }
      ],
      "source": [
        "print(\"--------------BILL---------------\")\n",
        "item1=\"Pizza\"\n",
        "price_of_item1=500\n",
        "\n",
        "item2=\"Burger\"\n",
        "price_of_item2=150\n",
        "\n",
        "item3=\"Fries\"\n",
        "price_of_item3=100\n",
        "\n",
        "item3=\"Cake\"\n",
        "price_of_item3=300\n",
        "\n",
        "item4=\" Coffee\"\n",
        "price_of_item4=200\n",
        "\n",
        "item5=\"Tea\"\n",
        "price_of_item5=50\n",
        "\n",
        "total_bill=price_of_item1 + price_of_item2 + price_of_item3 + price_of_item4 + price_of_item5\n",
        "\n",
        "discount=10\n",
        "total_to_be_paid=total_bill*discount/100\n",
        "total_amount=total_bill-total_to_be_paid\n",
        "\n",
        "print(\"1.st item is   :-          \",item1)\n",
        "print(\"\")\n",
        "print(\"price of it is :-          \",price_of_item1)\n",
        "print(\"\")\n",
        "print(\"2.nd item is   :-          \",item2)\n",
        "print(\"\")\n",
        "print(\"price of it is :-          \",price_of_item2)\n",
        "print(\"\")\n",
        "print(\"3.rd item is   :-          \",item3)\n",
        "print(\"\")\n",
        "print(\"price of it is :-          \",price_of_item3)\n",
        "print(\"\")\n",
        "print(\"4.th item is   :-         \",item4)\n",
        "print(\"\")\n",
        "print(\"price of it is :-          \",price_of_item4)\n",
        "print(\"\")\n",
        "print(\"5.th item is   :-          \",item5)\n",
        "print(\"\")\n",
        "print(\"price of it is :-          \",price_of_item5)\n",
        "print(\"\")\n",
        "print(\"total amount is:-          \",total_bill)\n",
        "print(\"\")\n",
        "print(\"discount percentage:-      \",discount,\"%\")\n",
        "print(\"\")\n",
        "print(\"discount amount :-         \",total_to_be_paid)\n",
        "print(\"\")\n",
        "print(\"bill is :-                 \",total_amount)\n",
        "print(\"-------------BILL END--------------\")"
      ]
    }
  ]
}