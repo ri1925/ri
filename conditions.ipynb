{
  "nbformat": 4,
  "nbformat_minor": 0,
  "metadata": {
    "colab": {
      "provenance": [],
      "authorship_tag": "ABX9TyNiFz37CWrj1Mlay64t+pPf",
      "include_colab_link": true
    },
    "kernelspec": {
      "name": "python3",
      "display_name": "Python 3"
    },
    "language_info": {
      "name": "python"
    }
  },
  "cells": [
    {
      "cell_type": "markdown",
      "metadata": {
        "id": "view-in-github",
        "colab_type": "text"
      },
      "source": [
        "<a href=\"https://colab.research.google.com/github/ri1925/ri/blob/main/conditions.ipynb\" target=\"_parent\"><img src=\"https://colab.research.google.com/assets/colab-badge.svg\" alt=\"Open In Colab\"/></a>"
      ]
    },
    {
      "cell_type": "code",
      "execution_count": 2,
      "metadata": {
        "colab": {
          "base_uri": "https://localhost:8080/"
        },
        "id": "L6DG4inw37mq",
        "outputId": "56cf17e9-342e-4aa5-e4c8-c41927efc914"
      },
      "outputs": [
        {
          "output_type": "stream",
          "name": "stdout",
          "text": [
            "enter genderfemale\n",
            "you wil come on monday because you are a female\n"
          ]
        }
      ],
      "source": [
        "#if -else condition\n",
        "gender=input(\"enter gender\")\n",
        "if gender==\"male\":\n",
        "    print(\"you wil come on sunday because you are a  male\")\n",
        "else:\n",
        "    print(\"you wil come on monday because you are a female\")"
      ]
    }
  ]
}