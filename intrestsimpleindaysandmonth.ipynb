{
  "nbformat": 4,
  "nbformat_minor": 0,
  "metadata": {
    "colab": {
      "provenance": [],
      "authorship_tag": "ABX9TyPqo3vqwcGl7NPPxVMSBirK",
      "include_colab_link": true
    },
    "kernelspec": {
      "name": "python3",
      "display_name": "Python 3"
    },
    "language_info": {
      "name": "python"
    }
  },
  "cells": [
    {
      "cell_type": "markdown",
      "metadata": {
        "id": "view-in-github",
        "colab_type": "text"
      },
      "source": [
        "<a href=\"https://colab.research.google.com/github/ri1925/ri/blob/main/intrestsimpleindaysandmonth.ipynb\" target=\"_parent\"><img src=\"https://colab.research.google.com/assets/colab-badge.svg\" alt=\"Open In Colab\"/></a>"
      ]
    },
    {
      "cell_type": "code",
      "execution_count": 11,
      "metadata": {
        "colab": {
          "base_uri": "https://localhost:8080/"
        },
        "id": "L6DG4inw37mq",
        "outputId": "1a9e6c29-a4c4-4ad8-c323-7c5916e9a59f"
      },
      "outputs": [
        {
          "output_type": "stream",
          "name": "stdout",
          "text": [
            "enter principle : 5000\n",
            "enter rate : 25\n",
            "enter month : february\n",
            "enter number of days : 28\n",
            "enter year:2025\n",
            "month name please  : february\n",
            "days in month  of : february is : 28\n",
            "entered number of days : 28\n",
            "interest is : 1250.0\n"
          ]
        }
      ],
      "source": [
        "p = int(input(\"enter principle : \"))\n",
        "r = int(input(\"enter rate : \"))\n",
        "month = input(\"enter month : \")\n",
        "days = int(input(\"enter number of days : \"))\n",
        "year=int(input(\"enter year:\"))\n",
        "\n",
        "if month == \"january\" or month == \"march\" or month == \"may\" or month == \"july\" or month == \"august\" or month == \"october\" or month == \"december\":\n",
        "    days_in_month = 31\n",
        "elif month == \"april\" or month == \"june\" or month == \"september\" or month == \"november\":\n",
        "    days_in_month = 30\n",
        "elif month == \"february\":\n",
        "    if year%4==0 and year%100!=0 or year%400==0:\n",
        "      days_in_month=29\n",
        "    else:\n",
        "      days_in_month=28\n",
        "\n",
        "else:\n",
        "    print(\"we had a year\")\n",
        "    days_in_month=0\n",
        "\n",
        "\n",
        "time = days / days_in_month\n",
        "interest = (p * r * time) / 100\n",
        "\n",
        "print(\"month name please  :\", month)\n",
        "print(\"days in month  of :\",month,\"is :\" ,days_in_month)\n",
        "print(\"entered number of days :\", days)\n",
        "print(\"interest is :\", interest)\n"
      ]
    }
  ]
}