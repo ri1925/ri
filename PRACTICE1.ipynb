{
  "nbformat": 4,
  "nbformat_minor": 0,
  "metadata": {
    "colab": {
      "provenance": [],
      "authorship_tag": "ABX9TyPuTiyp+KkihhRuKKMSMhrA",
      "include_colab_link": true
    },
    "kernelspec": {
      "name": "python3",
      "display_name": "Python 3"
    },
    "language_info": {
      "name": "python"
    }
  },
  "cells": [
    {
      "cell_type": "markdown",
      "metadata": {
        "id": "view-in-github",
        "colab_type": "text"
      },
      "source": [
        "<a href=\"https://colab.research.google.com/github/ri1925/ri/blob/main/PRACTICE1.ipynb\" target=\"_parent\"><img src=\"https://colab.research.google.com/assets/colab-badge.svg\" alt=\"Open In Colab\"/></a>"
      ]
    },
    {
      "cell_type": "code",
      "execution_count": 3,
      "metadata": {
        "id": "_5JCZ5G7-sqF",
        "colab": {
          "base_uri": "https://localhost:8080/"
        },
        "outputId": "d91237b7-4c66-42b1-c489-11c1ab3e7f80"
      },
      "outputs": [
        {
          "output_type": "stream",
          "name": "stdout",
          "text": [
            "hello welcome to python \n"
          ]
        }
      ],
      "source": [
        "#comment single line\n",
        "\"\"\" multi line comment\n",
        "\"\"\"\n",
        "print(\"hello welcome to python \")\n",
        "\n"
      ]
    }
  ]
}