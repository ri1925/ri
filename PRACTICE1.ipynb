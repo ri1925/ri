{
  "nbformat": 4,
  "nbformat_minor": 0,
  "metadata": {
    "colab": {
      "provenance": [],
      "authorship_tag": "ABX9TyO+JTaN+Waa11vZdMjsqoBq",
      "include_colab_link": true
    },
    "kernelspec": {
      "name": "python3",
      "display_name": "Python 3"
    },
    "language_info": {
      "name": "python"
    }
  },
  "cells": [
    {
      "cell_type": "markdown",
      "metadata": {
        "id": "view-in-github",
        "colab_type": "text"
      },
      "source": [
        "<a href=\"https://colab.research.google.com/github/ri1925/ri/blob/main/PRACTICE1.ipynb\" target=\"_parent\"><img src=\"https://colab.research.google.com/assets/colab-badge.svg\" alt=\"Open In Colab\"/></a>"
      ]
    },
    {
      "cell_type": "code",
      "execution_count": 26,
      "metadata": {
        "id": "_5JCZ5G7-sqF",
        "colab": {
          "base_uri": "https://localhost:8080/"
        },
        "outputId": "5b1c8be2-9439-4818-9b3b-9ba152d4e9ae"
      },
      "outputs": [
        {
          "output_type": "stream",
          "name": "stdout",
          "text": [
            "my name is :  Ridhima Thakur\n",
            "my age is :  23\n",
            "      \n",
            "-----*********************************-----\n",
            "      \n",
            "Hello Welcome To Python \n",
            "      \n",
            "          BioData          \n",
            "---------PERSONAL DETAILS--------\n",
            "Name             : RIDHIMA THAKUR\n",
            "DATE OF BIRTH    : 2007/06/25\n",
            "GENDER           : FEMALE\n",
            "CONTACT NUMBER   : 1211212\n",
            "EMAIL            : r1925@GMAIL.COM\n",
            "FATHER NAME      : MR SANJAY\n",
            "MOTHER NAME      : MRS.CHANDA THAKUR\n",
            "NATIONALITY      : INDIAN\n",
            "---------QUALIFICATION--------\n",
            "MATRICULATION    : 78% BOARD : CBSE\n",
            "SENIOR SECOUNDARY: 92%  BOARD : CBSE\n",
            "STREAM : INFORMATION TECHNOLOGY\n",
            "---------HOBBIES------------\n",
            "1.TRAVELLING \n",
            "2.COOKING \n",
            "3.READING BOOKS\n"
          ]
        }
      ],
      "source": [
        "#STARTING PYTHON\n",
        "\"\"\"BIO DATA MAKING\n",
        "\"\"\"\n",
        "\n",
        "name=\"Ridhima Thakur\"\n",
        "print(\"my name is : \",name)\n",
        "age=23\n",
        "print(\"my age is : \",age)\n",
        "\n",
        "\n",
        "print(\"      \")\n",
        "print(\"-----*********************************-----\")\n",
        "\n",
        "print(\"      \")\n",
        "print(\"Hello Welcome To Python \")\n",
        "print(\"      \")\n",
        "print(\"          BioData          \")\n",
        "print(\"---------PERSONAL DETAILS--------\")\n",
        "print(\"Name             : RIDHIMA THAKUR\")\n",
        "print(\"DATE OF BIRTH    : 2007/06/25\")\n",
        "print(\"GENDER           : FEMALE\")\n",
        "print(\"CONTACT NUMBER   : 1211212\")\n",
        "print(\"EMAIL            : r1925@GMAIL.COM\")\n",
        "print(\"FATHER NAME      : MR SANJAY\")\n",
        "print(\"MOTHER NAME      : MRS.CHANDA THAKUR\")\n",
        "print(\"NATIONALITY      : INDIAN\")\n",
        "\n",
        "print(\"---------QUALIFICATION--------\")\n",
        "print(\"MATRICULATION    : 78%\" , \"BOARD : CBSE\")\n",
        "print(\"SENIOR SECOUNDARY: 92% \" , \"BOARD : CBSE\")\n",
        "print(\"STREAM : INFORMATION TECHNOLOGY\")\n",
        "print(\"---------HOBBIES------------\")\n",
        "print(\"1.TRAVELLING \")\n",
        "print(\"2.COOKING \")\n",
        "print(\"3.READING BOOKS\")\n"
      ]
    }
  ]
}