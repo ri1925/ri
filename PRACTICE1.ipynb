{
  "nbformat": 4,
  "nbformat_minor": 0,
  "metadata": {
    "colab": {
      "provenance": [],
      "authorship_tag": "ABX9TyN5cNi1iWlZIx5RcMqh5Ik3",
      "include_colab_link": true
    },
    "kernelspec": {
      "name": "python3",
      "display_name": "Python 3"
    },
    "language_info": {
      "name": "python"
    }
  },
  "cells": [
    {
      "cell_type": "markdown",
      "metadata": {
        "id": "view-in-github",
        "colab_type": "text"
      },
      "source": [
        "<a href=\"https://colab.research.google.com/github/ri1925/ri/blob/main/PRACTICE1.ipynb\" target=\"_parent\"><img src=\"https://colab.research.google.com/assets/colab-badge.svg\" alt=\"Open In Colab\"/></a>"
      ]
    },
    {
      "cell_type": "code",
      "execution_count": 4,
      "metadata": {
        "id": "_5JCZ5G7-sqF",
        "colab": {
          "base_uri": "https://localhost:8080/"
        },
        "outputId": "140ccf1d-62cb-4819-a045-e4c888147891"
      },
      "outputs": [
        {
          "output_type": "stream",
          "name": "stdout",
          "text": [
            "my name is :  Ridhima Thakur\n",
            "my age is :  23\n",
            "date of birth is : 2007/06/25\n",
            "gender is: female\n",
            "mother name is :  chanda thakur\n",
            "father name is :  sanjay kumar\n",
            "      \n",
            "-----*********************************-----\n",
            "      \n",
            "     \n",
            "-----*********************************-----\n",
            "     \n",
            "Hello, Welcome To Python!\n",
            "     \n",
            "     \n",
            "     \n",
            "     \n",
            "          BIO DATA               \n",
            "-----PERSONAL DETAILS-----\n",
            "NAME              : RIDHI THAKUR\n",
            "DATE OF BIRTH     : 2007/06/25\n",
            "AGE               : 18 YEARS\n",
            "GENDER            : FEMALE\n",
            "NATIONALITY       : INDIAN\n",
            "RELIGION          : HINDU\n",
            "MARITAL STATUS    : UNMARRIED\n",
            "CONTACT NUMBER    : 123456789\n",
            "EMAIL             : ridhithakur@gmail.com\n",
            "FATHER NAME       : MR. SANJAY KUMAR\n",
            "MOTHER NAME       : MRS. CHANDA THAKUR\n",
            "BLOOD GROUP       : B POSITIVE\n",
            "-----  QUALIFICATION -----\n",
            "MATRICULATION     : 78.7%     BOARD : CBSE\n",
            "SENIOR SECONDARY  : 93.6%   BOARD : CBSE\n",
            "STREAM DURING 12TH: INFORMATION TECHNOLOGY\n",
            "CURRENT COURSE    : BACHELOR OF COMPUTER APPLICATIONS (BCA)\n",
            "UNIVERSITY        : INDIRA GANDHI NATIONAL OPEN UNIVERSITY (IGNOU)\n",
            "----- ACHIEVEMENTS -----\n",
            " AWARDED MERIT CERTIFICATE FOR SCHOOL TOPPER (93%)\n",
            "-----HOBBIES & INTERESTS-----\n",
            "1. READING BOOKS\n",
            "2. COOKING\n",
            "3. TRAVELLING\n",
            "     \n",
            "-----*********************************-----\n"
          ]
        }
      ],
      "source": [
        "#STARTING PYTHON\n",
        "\"\"\"BIO DATA MAKING\n",
        "\"\"\"\n",
        "name=\"Ridhima Thakur\"\n",
        "print(\"my name is : \",name)\n",
        "age=23\n",
        "print(\"my age is : \",age)\n",
        "date_of_birth=\"2007/06/25\"\n",
        "print(\"date of birth is :\",date_of_birth)\n",
        "gender=\"female\"\n",
        "print(\"gender is:\",gender)\n",
        "f_name=\"sanjay kumar\"\n",
        "m_name=\"chanda thakur\"\n",
        "print(\"mother name is : \",m_name)\n",
        "print(\"father name is : \",f_name)\n",
        "print(\"      \")\n",
        "print(\"-----*********************************-----\")\n",
        "print(\"      \")\n",
        "print(\"     \")\n",
        "print(\"-----*********************************-----\")\n",
        "print(\"     \")\n",
        "print(\"Hello, Welcome To Python!\")\n",
        "print(\"     \")\n",
        "print(\"     \")\n",
        "print(\"     \")\n",
        "print(\"     \")\n",
        "print(\"          BIO DATA               \")\n",
        "\n",
        "print(\"-----PERSONAL DETAILS-----\")\n",
        "print(\"NAME              : RIDHI THAKUR\")\n",
        "print(\"DATE OF BIRTH     : 2007/06/25\")\n",
        "print(\"AGE               : 18 YEARS\")\n",
        "print(\"GENDER            : FEMALE\")\n",
        "print(\"NATIONALITY       : INDIAN\")\n",
        "print(\"RELIGION          : HINDU\")\n",
        "print(\"MARITAL STATUS    : UNMARRIED\")\n",
        "print(\"CONTACT NUMBER    : 123456789\")\n",
        "print(\"EMAIL             : ridhithakur@gmail.com\")\n",
        "print(\"FATHER NAME       : MR. SANJAY KUMAR\")\n",
        "print(\"MOTHER NAME       : MRS. CHANDA THAKUR\")\n",
        "print(\"BLOOD GROUP       : B POSITIVE\")\n",
        "print(\"-----  QUALIFICATION -----\")\n",
        "print(\"MATRICULATION     : 78.7%     BOARD : CBSE\")\n",
        "print(\"SENIOR SECONDARY  : 93.6%   BOARD : CBSE\")\n",
        "print(\"STREAM DURING 12TH: INFORMATION TECHNOLOGY\")\n",
        "print(\"CURRENT COURSE    : BACHELOR OF COMPUTER APPLICATIONS (BCA)\")\n",
        "print(\"UNIVERSITY        : INDIRA GANDHI NATIONAL OPEN UNIVERSITY (IGNOU)\")\n",
        "print(\"----- ACHIEVEMENTS -----\")\n",
        "print(\" AWARDED MERIT CERTIFICATE FOR SCHOOL TOPPER (93%)\")\n",
        "print(\"-----HOBBIES & INTERESTS-----\")\n",
        "print(\"1. READING BOOKS\")\n",
        "print(\"2. COOKING\")\n",
        "print(\"3. TRAVELLING\")\n",
        "print(\"     \")\n",
        "print(\"-----*********************************-----\")\n"
      ]
    }
  ]
}