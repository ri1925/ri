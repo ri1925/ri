{
  "nbformat": 4,
  "nbformat_minor": 0,
  "metadata": {
    "colab": {
      "provenance": [],
      "authorship_tag": "ABX9TyMObyboIkbK+UmUJzhHVF+b",
      "include_colab_link": true
    },
    "kernelspec": {
      "name": "python3",
      "display_name": "Python 3"
    },
    "language_info": {
      "name": "python"
    }
  },
  "cells": [
    {
      "cell_type": "markdown",
      "metadata": {
        "id": "view-in-github",
        "colab_type": "text"
      },
      "source": [
        "<a href=\"https://colab.research.google.com/github/ri1925/ri/blob/main/Untitled1.ipynb\" target=\"_parent\"><img src=\"https://colab.research.google.com/assets/colab-badge.svg\" alt=\"Open In Colab\"/></a>"
      ]
    },
    {
      "cell_type": "code",
      "execution_count": null,
      "metadata": {
        "colab": {
          "base_uri": "https://localhost:8080/"
        },
        "id": "vA-VkWE5Tf2w",
        "outputId": "80d0653e-95c3-44a8-aefd-ffa78936cea1"
      },
      "outputs": [
        {
          "output_type": "stream",
          "name": "stdout",
          "text": [
            "127\n"
          ]
        }
      ],
      "source": [
        "fact=1\n",
        "sum=0\n",
        "for i in range(1,6):\n",
        "  fact=fact*i\n",
        "  if i%2!=0:\n",
        "\n",
        "     sum=sum+fact\n",
        "print(sum)"
      ]
    },
    {
      "cell_type": "code",
      "source": [
        "s=0\n",
        "for i in range(1,6,2):\n",
        "  f=1\n",
        "  for j in range(1,i+1):\n",
        "    f=f*j\n",
        "  s=s+f\n",
        "print(s)\n"
      ],
      "metadata": {
        "colab": {
          "base_uri": "https://localhost:8080/"
        },
        "id": "rjEOqJZ4ZRcG",
        "outputId": "8ecabb14-6ad4-433a-a446-fefa7e00a8bd"
      },
      "execution_count": null,
      "outputs": [
        {
          "output_type": "stream",
          "name": "stdout",
          "text": [
            "127\n"
          ]
        }
      ]
    },
    {
      "cell_type": "code",
      "source": [
        "s=0\n",
        "for i in range(2,7):\n",
        "  f=1\n",
        "  for j in range(1,i+1):\n",
        "    f=f*j\n",
        "  s=s+f\n",
        "print(s)\n"
      ],
      "metadata": {
        "colab": {
          "base_uri": "https://localhost:8080/"
        },
        "id": "xvSCTCtSbWeV",
        "outputId": "c022ce46-90f3-4c21-b4e5-2e4559037380"
      },
      "execution_count": null,
      "outputs": [
        {
          "output_type": "stream",
          "name": "stdout",
          "text": [
            "872\n"
          ]
        }
      ]
    },
    {
      "cell_type": "code",
      "source": [
        "factoriall = 1\n",
        "su = 0\n",
        "\n",
        "for i in range(2, 7):\n",
        "    factoriall = factoriall * i\n",
        "    if i % 2 == 0:\n",
        "        su = su + factoriall\n",
        "\n",
        "print(su)\n"
      ],
      "metadata": {
        "colab": {
          "base_uri": "https://localhost:8080/"
        },
        "id": "DWK1U345cBAM",
        "outputId": "b728829b-ced4-4d0b-b2ac-48b5fbff2768"
      },
      "execution_count": null,
      "outputs": [
        {
          "output_type": "stream",
          "name": "stdout",
          "text": [
            "746\n"
          ]
        }
      ]
    },
    {
      "cell_type": "code",
      "source": [
        "fact=1\n",
        "sum=0\n",
        "for i in range(1,10,4):\n",
        "  fact=fact*i\n",
        "  if i%2!=0:\n",
        "\n",
        "     sum=sum+fact\n",
        "print(sum)"
      ],
      "metadata": {
        "colab": {
          "base_uri": "https://localhost:8080/"
        },
        "id": "k1YVGxeXc-wp",
        "outputId": "3a8c3b02-6246-4dbb-a3f4-93b22e261815"
      },
      "execution_count": null,
      "outputs": [
        {
          "output_type": "stream",
          "name": "stdout",
          "text": [
            "51\n"
          ]
        }
      ]
    },
    {
      "cell_type": "code",
      "source": [
        "# 1,5,9 way by range\n",
        "\n",
        "fact = 1\n",
        "total = 0\n",
        "\n",
        "for i in range(1, 10, 4):\n",
        "    fact = 1\n",
        "    for j in range(1, i + 1):\n",
        "        fact *= j\n",
        "    if i % 2 != 0:\n",
        "        total += fact\n",
        "\n",
        "print(\"Sum of factorials:\", total)\n"
      ],
      "metadata": {
        "colab": {
          "base_uri": "https://localhost:8080/"
        },
        "id": "iELKtW4YZULB",
        "outputId": "94f19da9-3adf-4e86-94ed-2e987233013d"
      },
      "execution_count": null,
      "outputs": [
        {
          "output_type": "stream",
          "name": "stdout",
          "text": [
            "Sum of factorials: 363001\n"
          ]
        }
      ]
    },
    {
      "cell_type": "code",
      "source": [
        "fact = 1\n",
        "sum = 0\n",
        "for i in range(1, 7):\n",
        "    fact = fact * i\n",
        "    if i % 4 == 1:\n",
        "        sum = sum + fact\n",
        "print(sum)\n"
      ],
      "metadata": {
        "colab": {
          "base_uri": "https://localhost:8080/"
        },
        "id": "QBYQOF3HhSvf",
        "outputId": "90f5c9e8-c4b3-4267-900f-d66580beb72b"
      },
      "execution_count": null,
      "outputs": [
        {
          "output_type": "stream",
          "name": "stdout",
          "text": [
            "121\n"
          ]
        }
      ]
    },
    {
      "cell_type": "code",
      "source": [
        "#range 2,6,10\n",
        "sum=0\n",
        "for i in range(2, 11, 4):\n",
        "    fact = 1\n",
        "    for j in range(1, i + 1):\n",
        "        fact *= j\n",
        "    sum += fact\n",
        "print(sum)"
      ],
      "metadata": {
        "colab": {
          "base_uri": "https://localhost:8080/"
        },
        "id": "sEqX9luljP4k",
        "outputId": "c72b5a7c-8600-4df5-f354-53b875f84e18"
      },
      "execution_count": null,
      "outputs": [
        {
          "output_type": "stream",
          "name": "stdout",
          "text": [
            "3629522\n"
          ]
        }
      ]
    },
    {
      "cell_type": "code",
      "source": [
        "#sum of fac from 1-10\n",
        "fact = 1\n",
        "sum = 0\n",
        "\n",
        "for i in range(1, 11):\n",
        "    fact *= i\n",
        "    if i % 4 == 2:\n",
        "        sum += fact\n",
        "\n",
        "print(\"Sum of factorials =\", sum)\n"
      ],
      "metadata": {
        "colab": {
          "base_uri": "https://localhost:8080/"
        },
        "id": "ZYJA1tiDcwd4",
        "outputId": "07a5ad97-1b1d-4d55-ac9c-73a1395009db"
      },
      "execution_count": null,
      "outputs": [
        {
          "output_type": "stream",
          "name": "stdout",
          "text": [
            "Sum of factorials = 3629522\n"
          ]
        }
      ]
    },
    {
      "cell_type": "code",
      "source": [
        "sum1 = 0\n",
        "sum2 = 0\n",
        "#rangefrom 3,8,13\n",
        "for i in range(3, 14, 5):\n",
        "    fact = 1\n",
        "    for j in range(1, i + 1):\n",
        "        fact *= j\n",
        "    sum1 += fact\n",
        "\n",
        "# rangefrom 13,19,25\n",
        "for i in range(13, 26, 6):\n",
        "    fact = 1\n",
        "    for j in range(1, i + 1):\n",
        "        fact *= j\n",
        "    sum2 += fact\n",
        "totalsum = sum1 + sum2\n",
        "print(\"totalSum =\",totalsum)\n"
      ],
      "metadata": {
        "colab": {
          "base_uri": "https://localhost:8080/"
        },
        "id": "FmRed_2pkI1u",
        "outputId": "f9c4964b-2ed0-4710-ba70-0d1fb4329fef"
      },
      "execution_count": null,
      "outputs": [
        {
          "output_type": "stream",
          "name": "stdout",
          "text": [
            "totalSum = 15511210164976098846913926\n"
          ]
        }
      ]
    }
  ]
}